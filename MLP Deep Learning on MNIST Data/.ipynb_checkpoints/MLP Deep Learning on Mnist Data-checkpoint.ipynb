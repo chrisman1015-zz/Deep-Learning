{
 "cells": [
  {
   "cell_type": "markdown",
   "metadata": {},
   "source": [
    "# MLP Deep Learning on the MNIST Dataset\n",
    "\n",
    "## By Christopher Hauman\n",
    "<br>\n",
    "\n",
    "This guide will cover how to build a keras nerual network to categorize the [MNIST](http://yann.lecun.com/exdb/mnist/) Database of Handwritten Digits. This data contains handwritten digits fro 0-9 and their corresponding labels. *The code for this is an adapted example from [keras' domumentation](https://keras.io/examples/mnist_mlp/)*\n",
    "<br>\n",
    "\n",
    "We're going to cover importing the MNIST data, building a simple deep learning model in keras, and performing some optimizations on it. This will cover the most basic neural network form, Multilayer Perceptron (a type of feedforward neural network). If you're new to neural networks, I'd highly recommend you check out [3BLUE1BROWN](https://www.youtube.com/playlist?list=PLZHQObOWTQDNU6R1_67000Dx_ZCJB-3pi)'s guide on them, which will give you all the basic information you need to know for this guide. This type of learning also falls under the umbrella of supervised machine learning, which you can learn much more about in my guides [here](https://github.com/chrisman1015/Supervised-Learning).\n",
    "<br>\n",
    "\n",
    "Note: This assumes you have basic knowledge of python data science basics. If you don't, or encounter something you're not familiar with, don't worry! You can get a crash course in my guide, [Cleaning MLB Statcast Data using pandas DataFrames and seaborn Visualization](https://github.com/chrisman1015/Cleaning-Statcast-Data/blob/master/Cleaning%20Statcast%20Data/Cleaning%20Statcast%20Data.ipynb). \n",
    "<br>\n"
   ]
  },
  {
   "cell_type": "markdown",
   "metadata": {},
   "source": [
    "To begin, we'll import quite a few useful packages from keras, numpy, and visualization with seaborn and matplotlib. [Keras](https://keras.io/) is the premiere high-level neural network API, which is built on top of [tensorflow](https://www.tensorflow.org/guide/keras)."
   ]
  },
  {
   "cell_type": "code",
   "execution_count": 3,
   "metadata": {},
   "outputs": [],
   "source": [
    "# import numpy for arrays\n",
    "import numpy as np\n",
    "\n",
    "# import keras libraries\n",
    "import keras\n",
    "from keras.models import load_model\n",
    "from keras.datasets import mnist\n",
    "from keras.models import Sequential\n",
    "from keras.layers import Dense, Dropout\n",
    "from keras.optimizers import RMSprop\n",
    "from keras.callbacks import EarlyStopping\n",
    "\n",
    "# import visualization libraries\n",
    "import seaborn as sns\n",
    "import matplotlib.pyplot as plt\n",
    "from scipy import stats"
   ]
  },
  {
   "cell_type": "markdown",
   "metadata": {},
   "source": [
    "First, we'll load the data and take a look at the first X and y values in the training set:"
   ]
  },
  {
   "cell_type": "code",
   "execution_count": 4,
   "metadata": {},
   "outputs": [
    {
     "name": "stdout",
     "output_type": "stream",
     "text": [
      "First X in the training data:\n"
     ]
    },
    {
     "data": {
      "image/png": "[encoded data removed]",
      "text/plain": [
       "<Figure size 432x288 with 1 Axes>"
      ]
     },
     "metadata": {
      "needs_background": "light"
     },
     "output_type": "display_data"
    },
    {
     "name": "stdout",
     "output_type": "stream",
     "text": [
      "\n",
      "First y in the training data: 5\n"
     ]
    }
   ],
   "source": [
    "# import the data, split between train and test sets\n",
    "(X_train, y_train), (X_test, y_test) = mnist.load_data()\n",
    "\n",
    "\n",
    "# print the first X and y values\n",
    "print(\"First X in the training data:\")\n",
    "plt.imshow(X_train[0], cmap='gray')\n",
    "plt.show()\n",
    "print(\"\\nFirst y in the training data: \" + str(y_train[0]))"
   ]
  },
  {
   "cell_type": "markdown",
   "metadata": {},
   "source": [
    "We see that the x data contain images of written numbers, and the y data contains the label for that number. We're going to train our neural network to classify these images using the target labels. Let's also take a look at the shape of the X and y data:"
   ]
  },
  {
   "cell_type": "markdown",
   "metadata": {},
   "source": [
    "# print the shapes of the data\n",
    "print('\\nThe X_training samples have a shape of', X_train.shape)\n",
    "print('The y_training samples have a shape of', y_train.shape)\n",
    "\n",
    "print('\\nThe X_test samples have a shape of', X_test.shape)\n",
    "print('The y_test samples have a shape of', y_test.shape)"
   ]
  },
  {
   "cell_type": "markdown",
   "metadata": {},
   "source": [
    "The shape output shows there are 60000 drawn images, and each have a shape of 29x28 pixels (you can see this also on the axes of the image). There are also 60000 corresponding y labels for those images. We see the test sets have the same dimensions, except there are only 1000 samples.\n",
    "<br>\n",
    "\n",
    "While this shape is great for humans to interpret, it's not good at all for keras. To fix this, we'll first flatten the X images for both the training and test sets into one long array of 28x28 = 784 width:"
   ]
  },
  {
   "cell_type": "code",
   "execution_count": 6,
   "metadata": {},
   "outputs": [
    {
     "name": "stdout",
     "output_type": "stream",
     "text": [
      "(60000, 784) train samples\n",
      "(10000, 784) test samples\n"
     ]
    }
   ],
   "source": [
    "X_train = X_train.reshape(60000, 784)\n",
    "X_test = X_test.reshape(10000, 784)\n",
    "print(X_train.shape, 'train samples')\n",
    "print(X_test.shape, 'test samples')"
   ]
  },
  {
   "cell_type": "markdown",
   "metadata": {},
   "source": [
    "Now that our data is in the correct shape, we need to check its type:"
   ]
  },
  {
   "cell_type": "code",
   "execution_count": 7,
   "metadata": {},
   "outputs": [
    {
     "name": "stdout",
     "output_type": "stream",
     "text": [
      "\n",
      "The X_training samples have a data type of uint8\n",
      "The y_training samples have a data type of uint8\n"
     ]
    }
   ],
   "source": [
    "print('\\nThe X_training samples have a data type of', X_train.dtype)\n",
    "print('The y_training samples have a data type of', y_train.dtype)"
   ]
  },
  {
   "cell_type": "markdown",
   "metadata": {},
   "source": [
    "keras natively uses float32 as its data type, so we need to force the X and y into that type:"
   ]
  },
  {
   "cell_type": "code",
   "execution_count": 8,
   "metadata": {},
   "outputs": [
    {
     "name": "stdout",
     "output_type": "stream",
     "text": [
      "\n",
      "The X_training samples have a data type of float32\n",
      "The X_test samples have a data type of float32\n",
      "\n",
      "The y_training samples have a data type of float32\n",
      "The y_test samples have a data type of float32\n"
     ]
    }
   ],
   "source": [
    "# convert x values to float32\n",
    "X_train = X_train.astype('float32')\n",
    "X_test = X_test.astype('float32')\n",
    "y_train = y_train.astype('float32')\n",
    "y_test = y_test.astype('float32')\n",
    "\n",
    "print('\\nThe X_training samples have a data type of', X_train.dtype)\n",
    "print('The X_test samples have a data type of', X_test.dtype)\n",
    "print('\\nThe y_training samples have a data type of', y_train.dtype)\n",
    "print('The y_test samples have a data type of', y_test.dtype)"
   ]
  },
  {
   "cell_type": "markdown",
   "metadata": {},
   "source": [
    "Now that the data is reshaped and in the correct type, we need to scale it. Currently, each X value (pixel) in the data contains a number between 0 and 255 to represent the grayscale brightness of the pixel, where 0 is pure black and 255 is pure white. We'll divide all the values by 255 to scale them to 1."
   ]
  },
  {
   "cell_type": "code",
   "execution_count": 9,
   "metadata": {},
   "outputs": [
    {
     "name": "stdout",
     "output_type": "stream",
     "text": [
      "The mean pixel value of the first image in the X_training before scaling is  35.108418\n",
      "The mean pixel value of the first image in the X_training after scaling is  0.13768007\n"
     ]
    }
   ],
   "source": [
    "print(\"The mean pixel value of the first image in the X_training before scaling is \", np.mean(X_train[0]))\n",
    "\n",
    "# scale pixel values from 0 to 1\n",
    "X_train /= 255\n",
    "X_test /= 255\n",
    "\n",
    "print(\"The mean pixel value of the first image in the X_training after scaling is \", np.mean(X_train[0]))"
   ]
  },
  {
   "cell_type": "markdown",
   "metadata": {},
   "source": [
    "The X data are now in the correct, shape, type, and scaled to 1. But what about the y values? Remember, they currently hold the label for the corresponding image in X."
   ]
  },
  {
   "cell_type": "code",
   "execution_count": 10,
   "metadata": {},
   "outputs": [
    {
     "name": "stdout",
     "output_type": "stream",
     "text": [
      "\n",
      "First y value in the training data is 5.0\n"
     ]
    }
   ],
   "source": [
    "print(\"\\nFirst y value in the training data is \" + str(y_train[0]))"
   ]
  },
  {
   "cell_type": "markdown",
   "metadata": {},
   "source": [
    "Unfortunately, keras needs the target values to be categorical values, as it will be classifying them into different categories. We'll now convert the y training and test data into categorical data, with 10 classes representing the 10 possibly values for a number 0-9. If you were only classifying data into two categories, you'd use two classes instead of 10."
   ]
  },
  {
   "cell_type": "code",
   "execution_count": 11,
   "metadata": {},
   "outputs": [
    {
     "name": "stdout",
     "output_type": "stream",
     "text": [
      "\n",
      "First y value in the training data is [0. 0. 0. 0. 0. 1. 0. 0. 0. 0.]\n"
     ]
    }
   ],
   "source": [
    "num_classes=10\n",
    "y_train = keras.utils.to_categorical(y_train, num_classes)\n",
    "y_test = keras.utils.to_categorical(y_test, num_classes)\n",
    "print(\"\\nFirst y value in the training data is \" + str(y_train[0]))"
   ]
  },
  {
   "cell_type": "markdown",
   "metadata": {},
   "source": [
    "The y data are now categorical. Notice that the first y value in the training set corresponding to 5 has a 1 in the sixth index, corresponding to 5. Now we're ready to build our deep learning model!"
   ]
  },
  {
   "cell_type": "markdown",
   "metadata": {},
   "source": [
    "***\n",
    "Though may be a pain to take the steps to ensure your data is in the correct shape, scale, and type, it will pay dividends when it allows us to easily build a neural network with keras. \n",
    "<br>\n",
    "\n",
    "We build models by first initializing our model in the same way we do for traditional supervised and unsupervised learning models. For now, we can stick with Sequential, which will have each layer building directly off and only off the previous layer. We'll also create a variable **ncols** to hold the number of columns in the sample data."
   ]
  },
  {
   "cell_type": "code",
   "execution_count": 12,
   "metadata": {},
   "outputs": [],
   "source": [
    "# get number of columns in sample data\n",
    "ncols = X_train.shape[1]\n",
    "\n",
    "# initalize sequentital model\n",
    "model = Sequential()"
   ]
  },
  {
   "cell_type": "markdown",
   "metadata": {},
   "source": [
    "We can now build each layer using **Model.add** to add layers to the model. We'll mainly stick to [Dense](https://www.tensorflow.org/api_docs/python/tf/keras/layers/Dense) layers for now, which are the backbone of an [MLP neural network](https://machinelearningmastery.com/neural-networks-crash-course/).\n",
    "<br>\n",
    "<br>\n",
    "\n",
    "### Arguments for the Dense Layers\n",
    "\n",
    "**units** determines the dimensionality of the output space. If you choose 50, this dense layer will create and output to 50 neurons.<br>\n",
    "\n",
    "**acactivation='relu'** \n",
    "applies the [ReLU](https://www.kaggle.com/dansbecker/rectified-linear-units-relu-in-deep-learning) function to the output of that layer. <br>\n",
    "\n",
    "**input_shape** \n",
    "determines the number of neurons of the input data. This is absolutely crucial. You MUST specify the number of columns in the input shape, as the columns of the data are the input layer. <br> \n",
    "You don't have to specify the number of rows, as it's applying the algorithm row-wise on each sample until the end of the data. <br>\n",
    "\n",
    "**activation='softmax'** \n",
    "for the output layer squashes each prediction to being between 0 and 1, where the sum of the prediction probabilities being 1. <br>\n",
    "You can learn more about ReLU and Softmax [here](https://github.com/Kulbear/deep-learning-nano-foundation/wiki/ReLU-and-Softmax-Activation-Functions).<br>\n",
    "\n",
    "*Note that the last layer uses num_classes to determine the number of neurons in the output layer. Remember we have 10 possible target values, so we'll have our model make its final prediction with those 10 options.*"
   ]
  },
  {
   "cell_type": "code",
   "execution_count": 15,
   "metadata": {},
   "outputs": [],
   "source": [
    "# buld the model with 3 dense layers\n",
    "\n",
    "# Input layer has ncols (784) neurons, and uses relu to output to 50 neurons\n",
    "model.add(Dense(units=50, activation='relu', input_shape=(ncols,)))\n",
    "\n",
    "# 25 neruon layer operating from the previous 50\n",
    "model.add(Dense(25, activation='relu'))\n",
    "\n",
    "# output layer to 10 neruons with softmax activation\n",
    "model.add(Dense(num_classes, activation='softmax'))"
   ]
  },
  {
   "cell_type": "markdown",
   "metadata": {},
   "source": [
    "Now that we've built our model, we can look at a quick summary:"
   ]
  },
  {
   "cell_type": "code",
   "execution_count": 16,
   "metadata": {},
   "outputs": [
    {
     "name": "stdout",
     "output_type": "stream",
     "text": [
      "_________________________________________________________________\n",
      "Layer (type)                 Output Shape              Param #   \n",
      "=================================================================\n",
      "dense_1 (Dense)              (None, 50)                39250     \n",
      "_________________________________________________________________\n",
      "dense_2 (Dense)              (None, 25)                1275      \n",
      "_________________________________________________________________\n",
      "dense_3 (Dense)              (None, 10)                260       \n",
      "_________________________________________________________________\n",
      "dense_4 (Dense)              (None, 50)                550       \n",
      "_________________________________________________________________\n",
      "dense_5 (Dense)              (None, 25)                1275      \n",
      "_________________________________________________________________\n",
      "dense_6 (Dense)              (None, 10)                260       \n",
      "_________________________________________________________________\n",
      "dense_7 (Dense)              (None, 50)                550       \n",
      "_________________________________________________________________\n",
      "dense_8 (Dense)              (None, 25)                1275      \n",
      "_________________________________________________________________\n",
      "dense_9 (Dense)              (None, 10)                260       \n",
      "=================================================================\n",
      "Total params: 44,955\n",
      "Trainable params: 44,955\n",
      "Non-trainable params: 0\n",
      "_________________________________________________________________\n"
     ]
    }
   ],
   "source": [
    "# model summary\n",
    "model.summary()"
   ]
  },
  {
   "cell_type": "markdown",
   "metadata": {},
   "source": [
    "We see there are 3 layers with 50, 25, and 10 neurons respectively:\n",
    "<br>\n",
    "\n",
    "The first layer has (784 weights from the previous neurons + 1 bias term for each connection) for the 50 neurons, which results in (784+1)$\\times$50 = 39250. This means there are almost 40000 parameters being learned for the first layer alone. If you have any questions about this bias term, you can read more about it [here](https://stackoverflow.com/questions/2480650/role-of-bias-in-neural-networks).\n",
    "\n",
    "The second layer has 51$\\times$25 = 1275 parameters.\n",
    "\n",
    "The final layer has 26$\\times$10 = 260 parameters.\n",
    "<br>\n",
    "\n",
    "Summing them up, we see this model has a total of 40,785 parameters to learn how to label the images!"
   ]
  },
  {
   "cell_type": "markdown",
   "metadata": {},
   "source": [
    "***\n",
    "Now it's time to **compile** the model. We do this to configure the model to train it according to the parameters we decide.\n",
    "\n",
    "**optimizer** controls the learning rate. <br>\n",
    "\"adam\" is usually a good choice. It adjust the learning rate as it performs gradient descent, making it very versatile. <br>\n",
    "Read more about learning rates [here](https://towardsdatascience.com/understanding-learning-rates-and-how-it-improves-performance-in-deep-learning-d0d4059c1c10).\n",
    "\"sgd\" is [Stochiastic Gradient Descent](https://developers.google.com/machine-learning/crash-course/reducing-loss/stochastic-gradient-descent)\n",
    "\n",
    "**loss** controls the loss function.<br>\n",
    "\"mean_squared_error\" is common for regression. <br>\n",
    "'categorical_crossentropy\" is common for classification (very similar to [log loss](http://wiki.fast.ai/index.php/Log_Loss)). LOWER IS BETTER\n",
    "\n",
    "**metrics** List of metrics to be evaluated by the model during training and testing. <br>\n",
    "Typically, you will use \"accuracy\". This prints the model accuracy score at the end of each epoch."
   ]
  },
  {
   "cell_type": "code",
   "execution_count": 18,
   "metadata": {},
   "outputs": [
    {
     "name": "stdout",
     "output_type": "stream",
     "text": [
      "Loss function: categorical_crossentropy\n",
      "Optimizer: <keras.optimizers.RMSprop object at 0x0000026F0039AB70>\n",
      "Metrics: ['accuracy']\n"
     ]
    }
   ],
   "source": [
    "# compile the model\n",
    "model.compile(loss='categorical_crossentropy',\n",
    "              optimizer=RMSprop(),\n",
    "              metrics=['accuracy'])\n",
    "\n",
    "# print the attributes of the model to ensure they're correct\n",
    "print(\"Loss function: \" + model.loss)\n",
    "print(\"Optimizer: \" + str(model.optimizer))\n",
    "print(\"Metrics: \" + str(model.metrics))"
   ]
  },
  {
   "cell_type": "markdown",
   "metadata": {},
   "source": [
    "**batch_size** determines how much of the training set is run through each update of the model.\n",
    "The update only runs a subset('batch') of the data to update the model. Each time you go through every batch (all the training data), it's called an epoch.\n",
    "\n",
    "**epochs** determines how many times you cycle through your entire training data set.\n",
    "\n",
    "**verbose** controls how the output is printed.\n",
    "Accepts 0, 1, or 2 (I prefer 1).\n",
    "\n",
    "**validation_data** uses the test data to calculate the accuracy of the model for each epoch.\n",
    "<br>\n",
    "\n",
    "Now let's fit the model:"
   ]
  },
  {
   "cell_type": "code",
   "execution_count": 24,
   "metadata": {},
   "outputs": [
    {
     "name": "stdout",
     "output_type": "stream",
     "text": [
      "Train on 60000 samples, validate on 10000 samples\n",
      "Epoch 1/5\n",
      "60000/60000 [==============================] - 2s 36us/step - loss: 0.2286 - acc: 0.9474 - val_loss: 0.2627 - val_acc: 0.9465\n",
      "Epoch 2/5\n",
      "60000/60000 [==============================] - 2s 36us/step - loss: 0.1949 - acc: 0.9549 - val_loss: 0.2416 - val_acc: 0.9509\n",
      "Epoch 3/5\n",
      "60000/60000 [==============================] - 2s 36us/step - loss: 0.1694 - acc: 0.9598 - val_loss: 0.2354 - val_acc: 0.9514\n",
      "Epoch 4/5\n",
      "60000/60000 [==============================] - 2s 35us/step - loss: 0.1534 - acc: 0.9636 - val_loss: 0.2480 - val_acc: 0.9469\n",
      "Epoch 5/5\n",
      "60000/60000 [==============================] - 2s 38us/step - loss: 0.1366 - acc: 0.9672 - val_loss: 0.2368 - val_acc: 0.9507\n"
     ]
    }
   ],
   "source": [
    "# choose the batch size\n",
    "batch_size = 128\n",
    "\n",
    "# fit the model \n",
    "fit1 = model.fit(X_train, y_train,\n",
    "                    batch_size=batch_size,\n",
    "                    epochs=5,\n",
    "                    verbose=1,\n",
    "                    validation_data=(X_test, y_test))"
   ]
  },
  {
   "cell_type": "markdown",
   "metadata": {},
   "source": [
    "We can use model.evaluate to test the trained set on the entire test set. We can also index the resulting score for the loss and accuracy values of the model:"
   ]
  },
  {
   "cell_type": "code",
   "execution_count": 25,
   "metadata": {},
   "outputs": [
    {
     "name": "stdout",
     "output_type": "stream",
     "text": [
      "Test loss: 0.23681225686073304\n",
      "Test accuracy: 0.9507\n"
     ]
    }
   ],
   "source": [
    "# evaluate the model\n",
    "score = model.evaluate(X_test, y_test, verbose=0)\n",
    "\n",
    "# print model loss and accuracy\n",
    "print('Test loss:', score[0])\n",
    "print('Test accuracy:', score[1])"
   ]
  },
  {
   "cell_type": "markdown",
   "metadata": {},
   "source": [
    "We see our final accuracy was 95.07% accurate when labeling out test data and our loss function was 0.236. We can save our model or load a model like this:"
   ]
  },
  {
   "cell_type": "code",
   "execution_count": 26,
   "metadata": {},
   "outputs": [],
   "source": [
    "# save model to model.h5\n",
    "model.save('model.h5')\n",
    "\n",
    "# load model\n",
    "my_model = load_model('model.h5')"
   ]
  },
  {
   "cell_type": "markdown",
   "metadata": {},
   "source": [
    "***\n",
    "We're going to now crank up our model to the next level! We'll add one more type of layer and a lot more neurons:\n",
    "<br>\n",
    "\n",
    "**[Dropout(0.2)](https://machinelearningmastery.com/dropout-regularization-deep-learning-models-keras/)** will randomly select 20% to be ignored downstream (for the rest of the layers).<br>\n",
    "This prevents overfitting, a common challenge with machine learning algorithms."
   ]
  },
  {
   "cell_type": "code",
   "execution_count": 27,
   "metadata": {},
   "outputs": [
    {
     "name": "stdout",
     "output_type": "stream",
     "text": [
      "WARNING:tensorflow:From C:\\Users\\Chris\\Anaconda3\\lib\\site-packages\\keras\\backend\\tensorflow_backend.py:3445: calling dropout (from tensorflow.python.ops.nn_ops) with keep_prob is deprecated and will be removed in a future version.\n",
      "Instructions for updating:\n",
      "Please use `rate` instead of `keep_prob`. Rate should be set to `rate = 1 - keep_prob`.\n",
      "_________________________________________________________________\n",
      "Layer (type)                 Output Shape              Param #   \n",
      "=================================================================\n",
      "dense_10 (Dense)             (None, 512)               401920    \n",
      "_________________________________________________________________\n",
      "dropout_1 (Dropout)          (None, 512)               0         \n",
      "_________________________________________________________________\n",
      "dense_11 (Dense)             (None, 512)               262656    \n",
      "_________________________________________________________________\n",
      "dropout_2 (Dropout)          (None, 512)               0         \n",
      "_________________________________________________________________\n",
      "dense_12 (Dense)             (None, 10)                5130      \n",
      "=================================================================\n",
      "Total params: 669,706\n",
      "Trainable params: 669,706\n",
      "Non-trainable params: 0\n",
      "_________________________________________________________________\n"
     ]
    }
   ],
   "source": [
    "# initalize sequentital model\n",
    "model2 = Sequential()\n",
    "\n",
    "# buld the model with 3 dense layers and 2 dropout layers\n",
    "\n",
    "# Input layer has ncols (784) neurons, and uses relu to output to 512 neurons\n",
    "model2.add(Dense(512, activation='relu', input_shape=(ncols,)))\n",
    "\n",
    "# randomly drop 20% of the neurons\n",
    "model2.add(Dropout(0.2))\n",
    "\n",
    "# 512 neruon layer, taken from the previous 512 minus the 20% dropped\n",
    "model2.add(Dense(512, activation='relu'))\n",
    "\n",
    "# randomly drop 20% of the neurons\n",
    "model2.add(Dropout(0.2))\n",
    "\n",
    "# output layer to 10 neruons with softmax activation\n",
    "model2.add(Dense(num_classes, activation='softmax'))\n",
    "\n",
    "model2.summary()"
   ]
  },
  {
   "cell_type": "markdown",
   "metadata": {},
   "source": [
    "We see our new model has a whopping 669,706 parameters! "
   ]
  },
  {
   "cell_type": "code",
   "execution_count": 28,
   "metadata": {},
   "outputs": [
    {
     "name": "stdout",
     "output_type": "stream",
     "text": [
      "Loss function: categorical_crossentropy\n",
      "Optimizer: <keras.optimizers.Adam object at 0x00000270262350F0>\n",
      "Metrics: ['accuracy']\n"
     ]
    }
   ],
   "source": [
    "model2.compile(loss='categorical_crossentropy',\n",
    "              optimizer='adam',\n",
    "              metrics=['accuracy'])\n",
    "\n",
    "print(\"Loss function: \" + model2.loss)\n",
    "print(\"Optimizer: \" + str(model2.optimizer))\n",
    "print(\"Metrics: \" + str(model2.metrics))"
   ]
  },
  {
   "cell_type": "markdown",
   "metadata": {},
   "source": [
    "We can also add an early stopping monitor. This is a way to automatically stop fitting the model when it's not improving in accuracy anymore. Patience = 3 means the model will stop fitting after 3 epochs without improved accuracy. By doing this, we can set a very high number of epochs, because we know the model will automatically stop after it maximizes accuracy."
   ]
  },
  {
   "cell_type": "code",
   "execution_count": 29,
   "metadata": {},
   "outputs": [],
   "source": [
    "# initialize early stopping monitor\n",
    "early_stopping_monitor = EarlyStopping(patience=3)"
   ]
  },
  {
   "cell_type": "markdown",
   "metadata": {},
   "source": [
    "Let's fit the second model now with the early stopping monitor:"
   ]
  },
  {
   "cell_type": "code",
   "execution_count": 30,
   "metadata": {},
   "outputs": [
    {
     "name": "stdout",
     "output_type": "stream",
     "text": [
      "Train on 60000 samples, validate on 10000 samples\n",
      "Epoch 1/200\n",
      "60000/60000 [==============================] - 2s 40us/step - loss: 0.2511 - acc: 0.9251 - val_loss: 0.1036 - val_acc: 0.9687\n",
      "Epoch 2/200\n",
      "60000/60000 [==============================] - 2s 31us/step - loss: 0.1011 - acc: 0.9690 - val_loss: 0.0861 - val_acc: 0.9725\n",
      "Epoch 3/200\n",
      "60000/60000 [==============================] - 2s 30us/step - loss: 0.0708 - acc: 0.9776 - val_loss: 0.0778 - val_acc: 0.9762\n",
      "Epoch 4/200\n",
      "60000/60000 [==============================] - 2s 33us/step - loss: 0.0560 - acc: 0.9818 - val_loss: 0.0670 - val_acc: 0.9787\n",
      "Epoch 5/200\n",
      "60000/60000 [==============================] - 2s 30us/step - loss: 0.0459 - acc: 0.9849 - val_loss: 0.0687 - val_acc: 0.9785\n",
      "Epoch 6/200\n",
      "60000/60000 [==============================] - 2s 30us/step - loss: 0.0396 - acc: 0.9873 - val_loss: 0.0611 - val_acc: 0.9818\n",
      "Epoch 7/200\n",
      "60000/60000 [==============================] - 2s 30us/step - loss: 0.0318 - acc: 0.9893 - val_loss: 0.0817 - val_acc: 0.9781\n",
      "Epoch 8/200\n",
      "60000/60000 [==============================] - 2s 31us/step - loss: 0.0327 - acc: 0.9897 - val_loss: 0.0641 - val_acc: 0.9819\n",
      "Epoch 9/200\n",
      "60000/60000 [==============================] - 2s 30us/step - loss: 0.0249 - acc: 0.9916 - val_loss: 0.0720 - val_acc: 0.9813\n"
     ]
    }
   ],
   "source": [
    "batch_size = 128\n",
    "\n",
    "# fit model with early stopping monitor\n",
    "fit2 = model2.fit(X_train, y_train,\n",
    "                    batch_size=batch_size,\n",
    "                    epochs=200,\n",
    "                    callbacks = [early_stopping_monitor],\n",
    "                    verbose=1,\n",
    "                    validation_data=(X_test, y_test))"
   ]
  },
  {
   "cell_type": "markdown",
   "metadata": {},
   "source": [
    "We see the model stopped early! I've run this model a few times, and it's stopped as early as the 4th epoch. "
   ]
  },
  {
   "cell_type": "code",
   "execution_count": 31,
   "metadata": {},
   "outputs": [
    {
     "name": "stdout",
     "output_type": "stream",
     "text": [
      "Test loss: 0.07204517929189096\n",
      "Test accuracy: 0.9813\n"
     ]
    }
   ],
   "source": [
    "score2 = model2.evaluate(X_test, y_test, verbose=0)\n",
    "print('Test loss:', score2[0])\n",
    "print('Test accuracy:', score2[1])"
   ]
  },
  {
   "cell_type": "markdown",
   "metadata": {},
   "source": [
    "We see our new loss function is only 0.072 and our test accuracy is 98.13%!\n",
    "<br>\n",
    "\n",
    "This bring us to the unique challenge of balancing the accuracy of the model with its computational cost. We improved our model by about 1% when adding many more neurons and some dropout layers, but it also took much longer to run. When building models on very large networks, you should be prepared to tweak your model quite a bit. Remember, the best model is not one which is simply accurate but is also as computationally efficient as possible.\n",
    "<br>\n",
    "\n",
    "To illustrate this idea, I'll quickly fit a third model right in the middle of the first two, with the two hidden layers having 128 and 64 neurons respectively."
   ]
  },
  {
   "cell_type": "code",
   "execution_count": 52,
   "metadata": {},
   "outputs": [
    {
     "name": "stdout",
     "output_type": "stream",
     "text": [
      "Train on 60000 samples, validate on 10000 samples\n",
      "Epoch 1/200\n",
      "60000/60000 [==============================] - 2s 37us/step - loss: 0.0192 - acc: 0.9938 - val_loss: 0.0664 - val_acc: 0.9841\n",
      "Epoch 2/200\n",
      "60000/60000 [==============================] - 2s 35us/step - loss: 0.0172 - acc: 0.9942 - val_loss: 0.0652 - val_acc: 0.9850\n",
      "Epoch 3/200\n",
      "60000/60000 [==============================] - 2s 31us/step - loss: 0.0166 - acc: 0.9944 - val_loss: 0.0630 - val_acc: 0.9859\n",
      "Epoch 4/200\n",
      "60000/60000 [==============================] - 2s 30us/step - loss: 0.0138 - acc: 0.9956 - val_loss: 0.0785 - val_acc: 0.9823\n",
      "Epoch 5/200\n",
      "60000/60000 [==============================] - 2s 31us/step - loss: 0.0146 - acc: 0.9952 - val_loss: 0.0743 - val_acc: 0.9843\n",
      "Epoch 6/200\n",
      "60000/60000 [==============================] - 2s 32us/step - loss: 0.0147 - acc: 0.9950 - val_loss: 0.0871 - val_acc: 0.9827\n"
     ]
    }
   ],
   "source": [
    "# initalize sequentital model\n",
    "model3 = Sequential()\n",
    "model3.add(Dense(128, activation='relu', input_shape=(ncols,)))\n",
    "model3.add(Dropout(0.15))\n",
    "model3.add(Dense(64, activation='relu'))\n",
    "model3.add(Dropout(0.15))\n",
    "model3.add(Dense(num_classes, activation='softmax'))\n",
    "\n",
    "model3.compile(loss='categorical_crossentropy',\n",
    "              optimizer='adam',\n",
    "              metrics=['accuracy'])\n",
    "\n",
    "batch_size = 128\n",
    "\n",
    "# fit model with early stopping monitor\n",
    "fit3 = model2.fit(X_train, y_train,\n",
    "                    batch_size=batch_size,\n",
    "                    epochs=200,\n",
    "                    callbacks = [early_stopping_monitor],\n",
    "                    verbose=1,\n",
    "                    validation_data=(X_test, y_test))"
   ]
  },
  {
   "cell_type": "markdown",
   "metadata": {},
   "source": [
    "We can use the [History](https://machinelearningmastery.com/display-deep-learning-model-training-history-in-keras/) attribute of the fit to get the loss and accuracy of the training and test data. Let's compare the accuracy and loss for the test sets of each model: "
   ]
  },
  {
   "cell_type": "code",
   "execution_count": 60,
   "metadata": {},
   "outputs": [
    {
     "data": {
      "image/png": "[encoded data removed]",
      "text/plain": [
       "<Figure size 1080x504 with 2 Axes>"
      ]
     },
     "metadata": {
      "needs_background": "light"
     },
     "output_type": "display_data"
    }
   ],
   "source": [
    "# summarize history for accuracy\n",
    "plt.figure(figsize=(15, 7))\n",
    "\n",
    "plt.subplot(1,2,1)    \n",
    "plt.plot(fit1.history['val_acc'])\n",
    "plt.plot(fit2.history['val_acc'])\n",
    "plt.plot(fit3.history['val_acc'])\n",
    "\n",
    "plt.title('Model Accuracy')\n",
    "plt.ylabel('Accuracy')\n",
    "plt.xlabel('Epoch')\n",
    "plt.legend(['fit1', 'fit2', 'fit3'], loc='lower right')\n",
    "\n",
    "plt.subplot(1,2,2)    \n",
    "# summarize history for loss\n",
    "plt.plot(fit1.history['val_loss'])\n",
    "plt.plot(fit2.history['val_loss'])\n",
    "plt.plot(fit3.history['val_loss'])\n",
    "plt.title('Model Loss')\n",
    "plt.ylabel('Loss')\n",
    "plt.xlabel('Epoch')\n",
    "plt.legend(['fit1', 'fit2', 'fit3'], loc='upper right')\n",
    "plt.show()"
   ]
  },
  {
   "cell_type": "markdown",
   "metadata": {},
   "source": [
    "We see that the third model performed even better than the second, despite being much smaller and less computationally draining. Bigger is not always better, and you should always try to simplify your model when you can. \n",
    "<br>\n",
    "\n",
    "That's all you need to get started building your own neural networks! In my next guide, we'll cover using a different type of network called a [Convolutional Neural Network](https://towardsdatascience.com/a-comprehensive-guide-to-convolutional-neural-networks-the-eli5-way-3bd2b1164a53) which is much better at picking out complex image patterns. I may also cover some parameter optimization techniques in the near future.\n",
    "<br>\n",
    "<br>"
   ]
  },
  {
   "cell_type": "code",
   "execution_count": null,
   "metadata": {},
   "outputs": [],
   "source": []
  }
 ],
 "metadata": {
  "kernelspec": {
   "display_name": "Python 3",
   "language": "python",
   "name": "python3"
  },
  "language_info": {
   "codemirror_mode": {
    "name": "ipython",
    "version": 3
   },
   "file_extension": ".py",
   "mimetype": "text/x-python",
   "name": "python",
   "nbconvert_exporter": "python",
   "pygments_lexer": "ipython3",
   "version": "3.7.3"
  }
 },
 "nbformat": 4,
 "nbformat_minor": 2
}
